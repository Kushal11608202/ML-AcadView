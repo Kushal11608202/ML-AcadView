{
  "nbformat": 4,
  "nbformat_minor": 0,
  "metadata": {
    "colab": {
      "name": "Assignment_1.ipynb",
      "version": "0.3.2",
      "provenance": []
    },
    "kernelspec": {
      "name": "python3",
      "display_name": "Python 3"
    }
  },
  "cells": [
    {
      "cell_type": "markdown",
      "metadata": {
        "id": "view-in-github",
        "colab_type": "text"
      },
      "source": [
        "[View in Colaboratory](https://colab.research.google.com/github/duakaran96/ML-AcadView/blob/master/Assignment_1.ipynb)"
      ]
    },
    {
      "metadata": {
        "id": "n0H2VaCu98wU",
        "colab_type": "text"
      },
      "cell_type": "markdown",
      "source": [
        "Question 1: Produce an ouput with front and back slicing"
      ]
    },
    {
      "metadata": {
        "id": "kYE8g3C_9klE",
        "colab_type": "code",
        "colab": {
          "base_uri": "https://localhost:8080/",
          "height": 51
        },
        "outputId": "eb4262e4-5732-458f-c871-d02de09eef73"
      },
      "cell_type": "code",
      "source": [
        "x = [1, 2, 3, 4, 5, 6, 7, 8, 9, 10, 11, 12, 13, 14, 15, 16]\n",
        "\n",
        "print(x[7:12])\n",
        "print(x[-9:-4])"
      ],
      "execution_count": 1,
      "outputs": [
        {
          "output_type": "stream",
          "text": [
            "[8, 9, 10, 11, 12]\n",
            "[8, 9, 10, 11, 12]\n"
          ],
          "name": "stdout"
        }
      ]
    },
    {
      "metadata": {
        "id": "DPqjejeZ-cPC",
        "colab_type": "text"
      },
      "cell_type": "markdown",
      "source": [
        "Question 2: Print even no. only using slicing"
      ]
    },
    {
      "metadata": {
        "id": "J4MDXdQ0-UcY",
        "colab_type": "code",
        "colab": {
          "base_uri": "https://localhost:8080/",
          "height": 34
        },
        "outputId": "3b6cf515-61db-4d8b-a540-78ef821a7d48"
      },
      "cell_type": "code",
      "source": [
        "print(x[1::2])"
      ],
      "execution_count": 2,
      "outputs": [
        {
          "output_type": "stream",
          "text": [
            "[2, 4, 6, 8, 10, 12, 14, 16]\n"
          ],
          "name": "stdout"
        }
      ]
    },
    {
      "metadata": {
        "id": "M9vMhdZg-nfT",
        "colab_type": "text"
      },
      "cell_type": "markdown",
      "source": [
        "Question 3: Print every 4th number using list slicing only."
      ]
    },
    {
      "metadata": {
        "id": "jrdp9JWF-lcw",
        "colab_type": "code",
        "colab": {
          "base_uri": "https://localhost:8080/",
          "height": 34
        },
        "outputId": "985bb86b-db37-451d-f4c9-ccc9ae5dc2c5"
      },
      "cell_type": "code",
      "source": [
        "print(x[0::4])"
      ],
      "execution_count": 4,
      "outputs": [
        {
          "output_type": "stream",
          "text": [
            "[1, 5, 9, 13]\n"
          ],
          "name": "stdout"
        }
      ]
    },
    {
      "metadata": {
        "id": "UWEiGrHS-vaq",
        "colab_type": "code",
        "colab": {}
      },
      "cell_type": "code",
      "source": [
        ""
      ],
      "execution_count": 0,
      "outputs": []
    }
  ]
}