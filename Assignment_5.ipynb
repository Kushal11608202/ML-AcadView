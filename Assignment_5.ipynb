{
  "nbformat": 4,
  "nbformat_minor": 0,
  "metadata": {
    "colab": {
      "name": "Assignment_5.ipynb",
      "version": "0.3.2",
      "provenance": []
    },
    "kernelspec": {
      "name": "python3",
      "display_name": "Python 3"
    }
  },
  "cells": [
    {
      "cell_type": "markdown",
      "metadata": {
        "id": "view-in-github",
        "colab_type": "text"
      },
      "source": [
        "[View in Colaboratory](https://colab.research.google.com/github/duakaran96/ML-AcadView/blob/master/Assignment_5.ipynb)"
      ]
    },
    {
      "metadata": {
        "id": "mLe8ABNghYPy",
        "colab_type": "text"
      },
      "cell_type": "markdown",
      "source": [
        "#Imports"
      ]
    },
    {
      "metadata": {
        "id": "4LTI4LvjhTwL",
        "colab_type": "code",
        "colab": {}
      },
      "cell_type": "code",
      "source": [
        "import pandas as pd"
      ],
      "execution_count": 0,
      "outputs": []
    },
    {
      "metadata": {
        "id": "fpAfb0jqhv9m",
        "colab_type": "code",
        "colab": {}
      },
      "cell_type": "code",
      "source": [
        "data = pd.read_csv('https://raw.githubusercontent.com/Shreyas3108/Weather/master/weather.csv')"
      ],
      "execution_count": 0,
      "outputs": []
    },
    {
      "metadata": {
        "id": "EQRcfdiHh3x6",
        "colab_type": "code",
        "colab": {
          "base_uri": "https://localhost:8080/",
          "height": 253
        },
        "outputId": "d777d782-bf9a-4429-c226-1ea4cded7327"
      },
      "cell_type": "code",
      "source": [
        "data.head()"
      ],
      "execution_count": 3,
      "outputs": [
        {
          "output_type": "execute_result",
          "data": {
            "text/html": [
              "<div>\n",
              "<style scoped>\n",
              "    .dataframe tbody tr th:only-of-type {\n",
              "        vertical-align: middle;\n",
              "    }\n",
              "\n",
              "    .dataframe tbody tr th {\n",
              "        vertical-align: top;\n",
              "    }\n",
              "\n",
              "    .dataframe thead th {\n",
              "        text-align: right;\n",
              "    }\n",
              "</style>\n",
              "<table border=\"1\" class=\"dataframe\">\n",
              "  <thead>\n",
              "    <tr style=\"text-align: right;\">\n",
              "      <th></th>\n",
              "      <th>Date</th>\n",
              "      <th>Location</th>\n",
              "      <th>MinTemp</th>\n",
              "      <th>MaxTemp</th>\n",
              "      <th>Rainfall</th>\n",
              "      <th>Evaporation</th>\n",
              "      <th>Sunshine</th>\n",
              "      <th>WindGustDir</th>\n",
              "      <th>WindGustSpeed</th>\n",
              "      <th>WindDir9am</th>\n",
              "      <th>...</th>\n",
              "      <th>Humidity3pm</th>\n",
              "      <th>Pressure9am</th>\n",
              "      <th>Pressure3pm</th>\n",
              "      <th>Cloud9am</th>\n",
              "      <th>Cloud3pm</th>\n",
              "      <th>Temp9am</th>\n",
              "      <th>Temp3pm</th>\n",
              "      <th>RainToday</th>\n",
              "      <th>RISK_MM</th>\n",
              "      <th>RainTomorrow</th>\n",
              "    </tr>\n",
              "  </thead>\n",
              "  <tbody>\n",
              "    <tr>\n",
              "      <th>0</th>\n",
              "      <td>11/1/2007</td>\n",
              "      <td>Canberra</td>\n",
              "      <td>8.0</td>\n",
              "      <td>24.3</td>\n",
              "      <td>0.0</td>\n",
              "      <td>3.4</td>\n",
              "      <td>6.3</td>\n",
              "      <td>NW</td>\n",
              "      <td>30.0</td>\n",
              "      <td>SW</td>\n",
              "      <td>...</td>\n",
              "      <td>29</td>\n",
              "      <td>1019.7</td>\n",
              "      <td>1015.0</td>\n",
              "      <td>7</td>\n",
              "      <td>7</td>\n",
              "      <td>14.4</td>\n",
              "      <td>23.6</td>\n",
              "      <td>No</td>\n",
              "      <td>3.6</td>\n",
              "      <td>Yes</td>\n",
              "    </tr>\n",
              "    <tr>\n",
              "      <th>1</th>\n",
              "      <td>11/2/2007</td>\n",
              "      <td>Canberra</td>\n",
              "      <td>14.0</td>\n",
              "      <td>26.9</td>\n",
              "      <td>3.6</td>\n",
              "      <td>4.4</td>\n",
              "      <td>9.7</td>\n",
              "      <td>ENE</td>\n",
              "      <td>39.0</td>\n",
              "      <td>E</td>\n",
              "      <td>...</td>\n",
              "      <td>36</td>\n",
              "      <td>1012.4</td>\n",
              "      <td>1008.4</td>\n",
              "      <td>5</td>\n",
              "      <td>3</td>\n",
              "      <td>17.5</td>\n",
              "      <td>25.7</td>\n",
              "      <td>Yes</td>\n",
              "      <td>3.6</td>\n",
              "      <td>Yes</td>\n",
              "    </tr>\n",
              "    <tr>\n",
              "      <th>2</th>\n",
              "      <td>11/3/2007</td>\n",
              "      <td>Canberra</td>\n",
              "      <td>13.7</td>\n",
              "      <td>23.4</td>\n",
              "      <td>3.6</td>\n",
              "      <td>5.8</td>\n",
              "      <td>3.3</td>\n",
              "      <td>NW</td>\n",
              "      <td>85.0</td>\n",
              "      <td>N</td>\n",
              "      <td>...</td>\n",
              "      <td>69</td>\n",
              "      <td>1009.5</td>\n",
              "      <td>1007.2</td>\n",
              "      <td>8</td>\n",
              "      <td>7</td>\n",
              "      <td>15.4</td>\n",
              "      <td>20.2</td>\n",
              "      <td>Yes</td>\n",
              "      <td>39.8</td>\n",
              "      <td>Yes</td>\n",
              "    </tr>\n",
              "    <tr>\n",
              "      <th>3</th>\n",
              "      <td>11/4/2007</td>\n",
              "      <td>Canberra</td>\n",
              "      <td>13.3</td>\n",
              "      <td>15.5</td>\n",
              "      <td>39.8</td>\n",
              "      <td>7.2</td>\n",
              "      <td>9.1</td>\n",
              "      <td>NW</td>\n",
              "      <td>54.0</td>\n",
              "      <td>WNW</td>\n",
              "      <td>...</td>\n",
              "      <td>56</td>\n",
              "      <td>1005.5</td>\n",
              "      <td>1007.0</td>\n",
              "      <td>2</td>\n",
              "      <td>7</td>\n",
              "      <td>13.5</td>\n",
              "      <td>14.1</td>\n",
              "      <td>Yes</td>\n",
              "      <td>2.8</td>\n",
              "      <td>Yes</td>\n",
              "    </tr>\n",
              "    <tr>\n",
              "      <th>4</th>\n",
              "      <td>11/5/2007</td>\n",
              "      <td>Canberra</td>\n",
              "      <td>7.6</td>\n",
              "      <td>16.1</td>\n",
              "      <td>2.8</td>\n",
              "      <td>5.6</td>\n",
              "      <td>10.6</td>\n",
              "      <td>SSE</td>\n",
              "      <td>50.0</td>\n",
              "      <td>SSE</td>\n",
              "      <td>...</td>\n",
              "      <td>49</td>\n",
              "      <td>1018.3</td>\n",
              "      <td>1018.5</td>\n",
              "      <td>7</td>\n",
              "      <td>7</td>\n",
              "      <td>11.1</td>\n",
              "      <td>15.4</td>\n",
              "      <td>Yes</td>\n",
              "      <td>0.0</td>\n",
              "      <td>No</td>\n",
              "    </tr>\n",
              "  </tbody>\n",
              "</table>\n",
              "<p>5 rows × 24 columns</p>\n",
              "</div>"
            ],
            "text/plain": [
              "        Date  Location  MinTemp  MaxTemp  Rainfall  Evaporation  Sunshine  \\\n",
              "0  11/1/2007  Canberra      8.0     24.3       0.0          3.4       6.3   \n",
              "1  11/2/2007  Canberra     14.0     26.9       3.6          4.4       9.7   \n",
              "2  11/3/2007  Canberra     13.7     23.4       3.6          5.8       3.3   \n",
              "3  11/4/2007  Canberra     13.3     15.5      39.8          7.2       9.1   \n",
              "4  11/5/2007  Canberra      7.6     16.1       2.8          5.6      10.6   \n",
              "\n",
              "  WindGustDir  WindGustSpeed WindDir9am      ...      Humidity3pm  \\\n",
              "0          NW           30.0         SW      ...               29   \n",
              "1         ENE           39.0          E      ...               36   \n",
              "2          NW           85.0          N      ...               69   \n",
              "3          NW           54.0        WNW      ...               56   \n",
              "4         SSE           50.0        SSE      ...               49   \n",
              "\n",
              "   Pressure9am  Pressure3pm  Cloud9am  Cloud3pm  Temp9am  Temp3pm  RainToday  \\\n",
              "0       1019.7       1015.0         7         7     14.4     23.6         No   \n",
              "1       1012.4       1008.4         5         3     17.5     25.7        Yes   \n",
              "2       1009.5       1007.2         8         7     15.4     20.2        Yes   \n",
              "3       1005.5       1007.0         2         7     13.5     14.1        Yes   \n",
              "4       1018.3       1018.5         7         7     11.1     15.4        Yes   \n",
              "\n",
              "   RISK_MM  RainTomorrow  \n",
              "0      3.6           Yes  \n",
              "1      3.6           Yes  \n",
              "2     39.8           Yes  \n",
              "3      2.8           Yes  \n",
              "4      0.0            No  \n",
              "\n",
              "[5 rows x 24 columns]"
            ]
          },
          "metadata": {
            "tags": []
          },
          "execution_count": 3
        }
      ]
    },
    {
      "metadata": {
        "id": "asLhYfBShsMp",
        "colab_type": "text"
      },
      "cell_type": "markdown",
      "source": [
        "**a.) Find the sum of missing data for every column in the dataset using the (isnull function and sum function) **"
      ]
    },
    {
      "metadata": {
        "id": "omBaU-JZhdcr",
        "colab_type": "code",
        "colab": {
          "base_uri": "https://localhost:8080/",
          "height": 442
        },
        "outputId": "96fc47a2-db68-4fd0-95dc-b08c26998675"
      },
      "cell_type": "code",
      "source": [
        "data.isnull().sum()"
      ],
      "execution_count": 4,
      "outputs": [
        {
          "output_type": "execute_result",
          "data": {
            "text/plain": [
              "Date              0\n",
              "Location          0\n",
              "MinTemp           0\n",
              "MaxTemp           0\n",
              "Rainfall          0\n",
              "Evaporation       0\n",
              "Sunshine          3\n",
              "WindGustDir       3\n",
              "WindGustSpeed     2\n",
              "WindDir9am       31\n",
              "WindDir3pm        1\n",
              "WindSpeed9am      7\n",
              "WindSpeed3pm      0\n",
              "Humidity9am       0\n",
              "Humidity3pm       0\n",
              "Pressure9am       0\n",
              "Pressure3pm       0\n",
              "Cloud9am          0\n",
              "Cloud3pm          0\n",
              "Temp9am           0\n",
              "Temp3pm           0\n",
              "RainToday         0\n",
              "RISK_MM           0\n",
              "RainTomorrow      0\n",
              "dtype: int64"
            ]
          },
          "metadata": {
            "tags": []
          },
          "execution_count": 4
        }
      ]
    },
    {
      "metadata": {
        "id": "XhJIx1oGiOOa",
        "colab_type": "text"
      },
      "cell_type": "markdown",
      "source": [
        "**b.) Remove the missing values (if any) **"
      ]
    },
    {
      "metadata": {
        "id": "8lu_n7m7h--Z",
        "colab_type": "code",
        "colab": {}
      },
      "cell_type": "code",
      "source": [
        "data.dropna(inplace=True)"
      ],
      "execution_count": 0,
      "outputs": []
    },
    {
      "metadata": {
        "id": "eso2ORowiaY_",
        "colab_type": "code",
        "colab": {
          "base_uri": "https://localhost:8080/",
          "height": 442
        },
        "outputId": "1709a617-94e1-4e65-8d42-8f8771afb646"
      },
      "cell_type": "code",
      "source": [
        "data.isnull().sum()"
      ],
      "execution_count": 6,
      "outputs": [
        {
          "output_type": "execute_result",
          "data": {
            "text/plain": [
              "Date             0\n",
              "Location         0\n",
              "MinTemp          0\n",
              "MaxTemp          0\n",
              "Rainfall         0\n",
              "Evaporation      0\n",
              "Sunshine         0\n",
              "WindGustDir      0\n",
              "WindGustSpeed    0\n",
              "WindDir9am       0\n",
              "WindDir3pm       0\n",
              "WindSpeed9am     0\n",
              "WindSpeed3pm     0\n",
              "Humidity9am      0\n",
              "Humidity3pm      0\n",
              "Pressure9am      0\n",
              "Pressure3pm      0\n",
              "Cloud9am         0\n",
              "Cloud3pm         0\n",
              "Temp9am          0\n",
              "Temp3pm          0\n",
              "RainToday        0\n",
              "RISK_MM          0\n",
              "RainTomorrow     0\n",
              "dtype: int64"
            ]
          },
          "metadata": {
            "tags": []
          },
          "execution_count": 6
        }
      ]
    },
    {
      "metadata": {
        "id": "Rh0oEwEuiefH",
        "colab_type": "text"
      },
      "cell_type": "markdown",
      "source": [
        "All null values have been dropped."
      ]
    },
    {
      "metadata": {
        "id": "cYzlSZfnijgC",
        "colab_type": "text"
      },
      "cell_type": "markdown",
      "source": [
        "**c.) Once again , Import the dataset and this time replace the missing null values with mean of the column series. **"
      ]
    },
    {
      "metadata": {
        "id": "x1-gkgLGic3g",
        "colab_type": "code",
        "colab": {}
      },
      "cell_type": "code",
      "source": [
        "df = pd.read_csv('https://raw.githubusercontent.com/Shreyas3108/Weather/master/weather.csv')"
      ],
      "execution_count": 0,
      "outputs": []
    },
    {
      "metadata": {
        "id": "7lD-PBIZixrJ",
        "colab_type": "code",
        "colab": {
          "base_uri": "https://localhost:8080/",
          "height": 253
        },
        "outputId": "f93454c1-c1a3-4a6c-d001-02a94c5d166e"
      },
      "cell_type": "code",
      "source": [
        "df.head()"
      ],
      "execution_count": 8,
      "outputs": [
        {
          "output_type": "execute_result",
          "data": {
            "text/html": [
              "<div>\n",
              "<style scoped>\n",
              "    .dataframe tbody tr th:only-of-type {\n",
              "        vertical-align: middle;\n",
              "    }\n",
              "\n",
              "    .dataframe tbody tr th {\n",
              "        vertical-align: top;\n",
              "    }\n",
              "\n",
              "    .dataframe thead th {\n",
              "        text-align: right;\n",
              "    }\n",
              "</style>\n",
              "<table border=\"1\" class=\"dataframe\">\n",
              "  <thead>\n",
              "    <tr style=\"text-align: right;\">\n",
              "      <th></th>\n",
              "      <th>Date</th>\n",
              "      <th>Location</th>\n",
              "      <th>MinTemp</th>\n",
              "      <th>MaxTemp</th>\n",
              "      <th>Rainfall</th>\n",
              "      <th>Evaporation</th>\n",
              "      <th>Sunshine</th>\n",
              "      <th>WindGustDir</th>\n",
              "      <th>WindGustSpeed</th>\n",
              "      <th>WindDir9am</th>\n",
              "      <th>...</th>\n",
              "      <th>Humidity3pm</th>\n",
              "      <th>Pressure9am</th>\n",
              "      <th>Pressure3pm</th>\n",
              "      <th>Cloud9am</th>\n",
              "      <th>Cloud3pm</th>\n",
              "      <th>Temp9am</th>\n",
              "      <th>Temp3pm</th>\n",
              "      <th>RainToday</th>\n",
              "      <th>RISK_MM</th>\n",
              "      <th>RainTomorrow</th>\n",
              "    </tr>\n",
              "  </thead>\n",
              "  <tbody>\n",
              "    <tr>\n",
              "      <th>0</th>\n",
              "      <td>11/1/2007</td>\n",
              "      <td>Canberra</td>\n",
              "      <td>8.0</td>\n",
              "      <td>24.3</td>\n",
              "      <td>0.0</td>\n",
              "      <td>3.4</td>\n",
              "      <td>6.3</td>\n",
              "      <td>NW</td>\n",
              "      <td>30.0</td>\n",
              "      <td>SW</td>\n",
              "      <td>...</td>\n",
              "      <td>29</td>\n",
              "      <td>1019.7</td>\n",
              "      <td>1015.0</td>\n",
              "      <td>7</td>\n",
              "      <td>7</td>\n",
              "      <td>14.4</td>\n",
              "      <td>23.6</td>\n",
              "      <td>No</td>\n",
              "      <td>3.6</td>\n",
              "      <td>Yes</td>\n",
              "    </tr>\n",
              "    <tr>\n",
              "      <th>1</th>\n",
              "      <td>11/2/2007</td>\n",
              "      <td>Canberra</td>\n",
              "      <td>14.0</td>\n",
              "      <td>26.9</td>\n",
              "      <td>3.6</td>\n",
              "      <td>4.4</td>\n",
              "      <td>9.7</td>\n",
              "      <td>ENE</td>\n",
              "      <td>39.0</td>\n",
              "      <td>E</td>\n",
              "      <td>...</td>\n",
              "      <td>36</td>\n",
              "      <td>1012.4</td>\n",
              "      <td>1008.4</td>\n",
              "      <td>5</td>\n",
              "      <td>3</td>\n",
              "      <td>17.5</td>\n",
              "      <td>25.7</td>\n",
              "      <td>Yes</td>\n",
              "      <td>3.6</td>\n",
              "      <td>Yes</td>\n",
              "    </tr>\n",
              "    <tr>\n",
              "      <th>2</th>\n",
              "      <td>11/3/2007</td>\n",
              "      <td>Canberra</td>\n",
              "      <td>13.7</td>\n",
              "      <td>23.4</td>\n",
              "      <td>3.6</td>\n",
              "      <td>5.8</td>\n",
              "      <td>3.3</td>\n",
              "      <td>NW</td>\n",
              "      <td>85.0</td>\n",
              "      <td>N</td>\n",
              "      <td>...</td>\n",
              "      <td>69</td>\n",
              "      <td>1009.5</td>\n",
              "      <td>1007.2</td>\n",
              "      <td>8</td>\n",
              "      <td>7</td>\n",
              "      <td>15.4</td>\n",
              "      <td>20.2</td>\n",
              "      <td>Yes</td>\n",
              "      <td>39.8</td>\n",
              "      <td>Yes</td>\n",
              "    </tr>\n",
              "    <tr>\n",
              "      <th>3</th>\n",
              "      <td>11/4/2007</td>\n",
              "      <td>Canberra</td>\n",
              "      <td>13.3</td>\n",
              "      <td>15.5</td>\n",
              "      <td>39.8</td>\n",
              "      <td>7.2</td>\n",
              "      <td>9.1</td>\n",
              "      <td>NW</td>\n",
              "      <td>54.0</td>\n",
              "      <td>WNW</td>\n",
              "      <td>...</td>\n",
              "      <td>56</td>\n",
              "      <td>1005.5</td>\n",
              "      <td>1007.0</td>\n",
              "      <td>2</td>\n",
              "      <td>7</td>\n",
              "      <td>13.5</td>\n",
              "      <td>14.1</td>\n",
              "      <td>Yes</td>\n",
              "      <td>2.8</td>\n",
              "      <td>Yes</td>\n",
              "    </tr>\n",
              "    <tr>\n",
              "      <th>4</th>\n",
              "      <td>11/5/2007</td>\n",
              "      <td>Canberra</td>\n",
              "      <td>7.6</td>\n",
              "      <td>16.1</td>\n",
              "      <td>2.8</td>\n",
              "      <td>5.6</td>\n",
              "      <td>10.6</td>\n",
              "      <td>SSE</td>\n",
              "      <td>50.0</td>\n",
              "      <td>SSE</td>\n",
              "      <td>...</td>\n",
              "      <td>49</td>\n",
              "      <td>1018.3</td>\n",
              "      <td>1018.5</td>\n",
              "      <td>7</td>\n",
              "      <td>7</td>\n",
              "      <td>11.1</td>\n",
              "      <td>15.4</td>\n",
              "      <td>Yes</td>\n",
              "      <td>0.0</td>\n",
              "      <td>No</td>\n",
              "    </tr>\n",
              "  </tbody>\n",
              "</table>\n",
              "<p>5 rows × 24 columns</p>\n",
              "</div>"
            ],
            "text/plain": [
              "        Date  Location  MinTemp  MaxTemp  Rainfall  Evaporation  Sunshine  \\\n",
              "0  11/1/2007  Canberra      8.0     24.3       0.0          3.4       6.3   \n",
              "1  11/2/2007  Canberra     14.0     26.9       3.6          4.4       9.7   \n",
              "2  11/3/2007  Canberra     13.7     23.4       3.6          5.8       3.3   \n",
              "3  11/4/2007  Canberra     13.3     15.5      39.8          7.2       9.1   \n",
              "4  11/5/2007  Canberra      7.6     16.1       2.8          5.6      10.6   \n",
              "\n",
              "  WindGustDir  WindGustSpeed WindDir9am      ...      Humidity3pm  \\\n",
              "0          NW           30.0         SW      ...               29   \n",
              "1         ENE           39.0          E      ...               36   \n",
              "2          NW           85.0          N      ...               69   \n",
              "3          NW           54.0        WNW      ...               56   \n",
              "4         SSE           50.0        SSE      ...               49   \n",
              "\n",
              "   Pressure9am  Pressure3pm  Cloud9am  Cloud3pm  Temp9am  Temp3pm  RainToday  \\\n",
              "0       1019.7       1015.0         7         7     14.4     23.6         No   \n",
              "1       1012.4       1008.4         5         3     17.5     25.7        Yes   \n",
              "2       1009.5       1007.2         8         7     15.4     20.2        Yes   \n",
              "3       1005.5       1007.0         2         7     13.5     14.1        Yes   \n",
              "4       1018.3       1018.5         7         7     11.1     15.4        Yes   \n",
              "\n",
              "   RISK_MM  RainTomorrow  \n",
              "0      3.6           Yes  \n",
              "1      3.6           Yes  \n",
              "2     39.8           Yes  \n",
              "3      2.8           Yes  \n",
              "4      0.0            No  \n",
              "\n",
              "[5 rows x 24 columns]"
            ]
          },
          "metadata": {
            "tags": []
          },
          "execution_count": 8
        }
      ]
    },
    {
      "metadata": {
        "id": "q61Tkfh8izMJ",
        "colab_type": "code",
        "colab": {
          "base_uri": "https://localhost:8080/",
          "height": 442
        },
        "outputId": "e240cc92-0fa4-4666-ac17-6d79586b1abe"
      },
      "cell_type": "code",
      "source": [
        "df.isnull().sum()"
      ],
      "execution_count": 9,
      "outputs": [
        {
          "output_type": "execute_result",
          "data": {
            "text/plain": [
              "Date              0\n",
              "Location          0\n",
              "MinTemp           0\n",
              "MaxTemp           0\n",
              "Rainfall          0\n",
              "Evaporation       0\n",
              "Sunshine          3\n",
              "WindGustDir       3\n",
              "WindGustSpeed     2\n",
              "WindDir9am       31\n",
              "WindDir3pm        1\n",
              "WindSpeed9am      7\n",
              "WindSpeed3pm      0\n",
              "Humidity9am       0\n",
              "Humidity3pm       0\n",
              "Pressure9am       0\n",
              "Pressure3pm       0\n",
              "Cloud9am          0\n",
              "Cloud3pm          0\n",
              "Temp9am           0\n",
              "Temp3pm           0\n",
              "RainToday         0\n",
              "RISK_MM           0\n",
              "RainTomorrow      0\n",
              "dtype: int64"
            ]
          },
          "metadata": {
            "tags": []
          },
          "execution_count": 9
        }
      ]
    },
    {
      "metadata": {
        "id": "QZwaohjki28q",
        "colab_type": "code",
        "colab": {}
      },
      "cell_type": "code",
      "source": [
        "df.fillna(df.mean(), inplace=True)"
      ],
      "execution_count": 0,
      "outputs": []
    },
    {
      "metadata": {
        "id": "VHt6JH0Ni9Cy",
        "colab_type": "code",
        "colab": {
          "base_uri": "https://localhost:8080/",
          "height": 442
        },
        "outputId": "22586439-d4cb-4c3b-9d8c-80a664604bd5"
      },
      "cell_type": "code",
      "source": [
        "df.isnull().sum()"
      ],
      "execution_count": 11,
      "outputs": [
        {
          "output_type": "execute_result",
          "data": {
            "text/plain": [
              "Date              0\n",
              "Location          0\n",
              "MinTemp           0\n",
              "MaxTemp           0\n",
              "Rainfall          0\n",
              "Evaporation       0\n",
              "Sunshine          0\n",
              "WindGustDir       3\n",
              "WindGustSpeed     0\n",
              "WindDir9am       31\n",
              "WindDir3pm        1\n",
              "WindSpeed9am      0\n",
              "WindSpeed3pm      0\n",
              "Humidity9am       0\n",
              "Humidity3pm       0\n",
              "Pressure9am       0\n",
              "Pressure3pm       0\n",
              "Cloud9am          0\n",
              "Cloud3pm          0\n",
              "Temp9am           0\n",
              "Temp3pm           0\n",
              "RainToday         0\n",
              "RISK_MM           0\n",
              "RainTomorrow      0\n",
              "dtype: int64"
            ]
          },
          "metadata": {
            "tags": []
          },
          "execution_count": 11
        }
      ]
    },
    {
      "metadata": {
        "id": "vQ-Hx26WjFmK",
        "colab_type": "text"
      },
      "cell_type": "markdown",
      "source": [
        "All null values located in numeric columns have been replaced by the mean value."
      ]
    },
    {
      "metadata": {
        "id": "Zfhc3WZ3jTMe",
        "colab_type": "text"
      },
      "cell_type": "markdown",
      "source": [
        "**d.) Find individual data types and copy the temperature column to a pandas series. **"
      ]
    },
    {
      "metadata": {
        "id": "fYY0fJi3i_Iz",
        "colab_type": "code",
        "colab": {
          "base_uri": "https://localhost:8080/",
          "height": 510
        },
        "outputId": "2ea50f8b-b0b6-4f4d-cc62-b0b4b92573f8"
      },
      "cell_type": "code",
      "source": [
        "df.info()"
      ],
      "execution_count": 12,
      "outputs": [
        {
          "output_type": "stream",
          "text": [
            "<class 'pandas.core.frame.DataFrame'>\n",
            "RangeIndex: 366 entries, 0 to 365\n",
            "Data columns (total 24 columns):\n",
            "Date             366 non-null object\n",
            "Location         366 non-null object\n",
            "MinTemp          366 non-null float64\n",
            "MaxTemp          366 non-null float64\n",
            "Rainfall         366 non-null float64\n",
            "Evaporation      366 non-null float64\n",
            "Sunshine         366 non-null float64\n",
            "WindGustDir      363 non-null object\n",
            "WindGustSpeed    366 non-null float64\n",
            "WindDir9am       335 non-null object\n",
            "WindDir3pm       365 non-null object\n",
            "WindSpeed9am     366 non-null float64\n",
            "WindSpeed3pm     366 non-null int64\n",
            "Humidity9am      366 non-null int64\n",
            "Humidity3pm      366 non-null int64\n",
            "Pressure9am      366 non-null float64\n",
            "Pressure3pm      366 non-null float64\n",
            "Cloud9am         366 non-null int64\n",
            "Cloud3pm         366 non-null int64\n",
            "Temp9am          366 non-null float64\n",
            "Temp3pm          366 non-null float64\n",
            "RainToday        366 non-null object\n",
            "RISK_MM          366 non-null float64\n",
            "RainTomorrow     366 non-null object\n",
            "dtypes: float64(12), int64(5), object(7)\n",
            "memory usage: 68.7+ KB\n"
          ],
          "name": "stdout"
        }
      ]
    },
    {
      "metadata": {
        "id": "JOuYNoUojbLm",
        "colab_type": "text"
      },
      "cell_type": "markdown",
      "source": [
        "Here is info about each column's data type."
      ]
    },
    {
      "metadata": {
        "id": "W2hArMEzjYNz",
        "colab_type": "code",
        "colab": {}
      },
      "cell_type": "code",
      "source": [
        "copyTemp = df['MinTemp']"
      ],
      "execution_count": 0,
      "outputs": []
    },
    {
      "metadata": {
        "id": "5PXb4BNBkgJc",
        "colab_type": "code",
        "colab": {
          "base_uri": "https://localhost:8080/",
          "height": 119
        },
        "outputId": "3a0c0273-080e-40db-aaf7-90a43a67a805"
      },
      "cell_type": "code",
      "source": [
        "copyTemp.head()"
      ],
      "execution_count": 14,
      "outputs": [
        {
          "output_type": "execute_result",
          "data": {
            "text/plain": [
              "0     8.0\n",
              "1    14.0\n",
              "2    13.7\n",
              "3    13.3\n",
              "4     7.6\n",
              "Name: MinTemp, dtype: float64"
            ]
          },
          "metadata": {
            "tags": []
          },
          "execution_count": 14
        }
      ]
    },
    {
      "metadata": {
        "id": "vsoEGZAWksN8",
        "colab_type": "code",
        "colab": {
          "base_uri": "https://localhost:8080/",
          "height": 34
        },
        "outputId": "6f6b8892-222f-4376-de84-df40ce9e196b"
      },
      "cell_type": "code",
      "source": [
        "type(copyTemp)"
      ],
      "execution_count": 15,
      "outputs": [
        {
          "output_type": "execute_result",
          "data": {
            "text/plain": [
              "pandas.core.series.Series"
            ]
          },
          "metadata": {
            "tags": []
          },
          "execution_count": 15
        }
      ]
    },
    {
      "metadata": {
        "id": "x2ezAYx1kulH",
        "colab_type": "code",
        "colab": {}
      },
      "cell_type": "code",
      "source": [
        ""
      ],
      "execution_count": 0,
      "outputs": []
    }
  ]
}