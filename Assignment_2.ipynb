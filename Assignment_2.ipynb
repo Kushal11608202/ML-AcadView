{
  "nbformat": 4,
  "nbformat_minor": 0,
  "metadata": {
    "colab": {
      "name": "Assignment_2.ipynb",
      "version": "0.3.2",
      "provenance": []
    },
    "kernelspec": {
      "name": "python3",
      "display_name": "Python 3"
    }
  },
  "cells": [
    {
      "cell_type": "markdown",
      "metadata": {
        "id": "view-in-github",
        "colab_type": "text"
      },
      "source": [
        "[View in Colaboratory](https://colab.research.google.com/github/duakaran96/ML-AcadView/blob/master/Assignment_2.ipynb)"
      ]
    },
    {
      "metadata": {
        "id": "4GHHhXMSF33r",
        "colab_type": "text"
      },
      "cell_type": "markdown",
      "source": [
        "#Imports"
      ]
    },
    {
      "metadata": {
        "id": "F_5uK_0IEEh7",
        "colab_type": "code",
        "colab": {}
      },
      "cell_type": "code",
      "source": [
        "import numpy as np"
      ],
      "execution_count": 0,
      "outputs": []
    },
    {
      "metadata": {
        "id": "G8YmHjeSFrx8",
        "colab_type": "text"
      },
      "cell_type": "markdown",
      "source": [
        "**Q.1 - Create a numpy array with 10 elements of the shape(10,1) using np.random and find out the mean of the elements using basic numpy functions.**"
      ]
    },
    {
      "metadata": {
        "id": "YnIHVm-UGD6p",
        "colab_type": "code",
        "colab": {}
      },
      "cell_type": "code",
      "source": [
        "ar = np.random.randn(10,1)"
      ],
      "execution_count": 0,
      "outputs": []
    },
    {
      "metadata": {
        "id": "aboEubu6HcAw",
        "colab_type": "text"
      },
      "cell_type": "markdown",
      "source": [
        "The array"
      ]
    },
    {
      "metadata": {
        "id": "-IdfRjIiGz30",
        "colab_type": "code",
        "colab": {
          "base_uri": "https://localhost:8080/",
          "height": 187
        },
        "outputId": "a9b250a5-fce4-4f01-970b-42ecd343fbb2"
      },
      "cell_type": "code",
      "source": [
        "ar"
      ],
      "execution_count": 6,
      "outputs": [
        {
          "output_type": "execute_result",
          "data": {
            "text/plain": [
              "array([[-1.240294  ],\n",
              "       [-0.87181222],\n",
              "       [-0.14564134],\n",
              "       [ 0.70699376],\n",
              "       [ 0.40181967],\n",
              "       [-1.93744974],\n",
              "       [ 0.68466724],\n",
              "       [-0.34898315],\n",
              "       [-0.08273683],\n",
              "       [ 1.27240211]])"
            ]
          },
          "metadata": {
            "tags": []
          },
          "execution_count": 6
        }
      ]
    },
    {
      "metadata": {
        "id": "O3zfHdOLHhA9",
        "colab_type": "text"
      },
      "cell_type": "markdown",
      "source": [
        "Mean of elements"
      ]
    },
    {
      "metadata": {
        "id": "SIJgkhoGG1iW",
        "colab_type": "code",
        "colab": {
          "base_uri": "https://localhost:8080/",
          "height": 34
        },
        "outputId": "18071ecc-1fa9-4fa7-b7e8-d1f710131adf"
      },
      "cell_type": "code",
      "source": [
        "ar.mean()"
      ],
      "execution_count": 7,
      "outputs": [
        {
          "output_type": "execute_result",
          "data": {
            "text/plain": [
              "-0.15610345179370966"
            ]
          },
          "metadata": {
            "tags": []
          },
          "execution_count": 7
        }
      ]
    },
    {
      "metadata": {
        "id": "GAOjb0ICIAag",
        "colab_type": "text"
      },
      "cell_type": "markdown",
      "source": [
        "**Q.2 - Create a numpy array with 20 elements of the shape(20,1) using np.random find the variance and standard deviation of the elements.**"
      ]
    },
    {
      "metadata": {
        "id": "vjjPhyj5HnAs",
        "colab_type": "code",
        "colab": {
          "base_uri": "https://localhost:8080/",
          "height": 357
        },
        "outputId": "41c80e1f-a554-4258-cbf0-27ff23725fbb"
      },
      "cell_type": "code",
      "source": [
        "li = np.random.rand(20,1)\n",
        "li"
      ],
      "execution_count": 8,
      "outputs": [
        {
          "output_type": "execute_result",
          "data": {
            "text/plain": [
              "array([[0.5017977 ],\n",
              "       [0.24562945],\n",
              "       [0.10795245],\n",
              "       [0.21664375],\n",
              "       [0.95920129],\n",
              "       [0.43741228],\n",
              "       [0.93431604],\n",
              "       [0.52241598],\n",
              "       [0.15152172],\n",
              "       [0.31546856],\n",
              "       [0.18141243],\n",
              "       [0.97130254],\n",
              "       [0.46866992],\n",
              "       [0.59356901],\n",
              "       [0.62912916],\n",
              "       [0.24925166],\n",
              "       [0.16609394],\n",
              "       [0.70150758],\n",
              "       [0.09763907],\n",
              "       [0.66314351]])"
            ]
          },
          "metadata": {
            "tags": []
          },
          "execution_count": 8
        }
      ]
    },
    {
      "metadata": {
        "id": "x2F21Gh0IcFG",
        "colab_type": "text"
      },
      "cell_type": "markdown",
      "source": [
        "Standard deviation"
      ]
    },
    {
      "metadata": {
        "id": "6hWooIh4IVf3",
        "colab_type": "code",
        "colab": {
          "base_uri": "https://localhost:8080/",
          "height": 34
        },
        "outputId": "61aaa886-f82e-41ea-8580-b89a5d95bf36"
      },
      "cell_type": "code",
      "source": [
        "li.std()"
      ],
      "execution_count": 9,
      "outputs": [
        {
          "output_type": "execute_result",
          "data": {
            "text/plain": [
              "0.2803908255843374"
            ]
          },
          "metadata": {
            "tags": []
          },
          "execution_count": 9
        }
      ]
    },
    {
      "metadata": {
        "id": "KXIOZ8EqIgnN",
        "colab_type": "text"
      },
      "cell_type": "markdown",
      "source": [
        "Variance"
      ]
    },
    {
      "metadata": {
        "id": "l5v3SJwUIfDf",
        "colab_type": "code",
        "colab": {
          "base_uri": "https://localhost:8080/",
          "height": 34
        },
        "outputId": "dd5285ec-aa41-4471-93ff-a86248402330"
      },
      "cell_type": "code",
      "source": [
        "li.var()"
      ],
      "execution_count": 10,
      "outputs": [
        {
          "output_type": "execute_result",
          "data": {
            "text/plain": [
              "0.07861901507186632"
            ]
          },
          "metadata": {
            "tags": []
          },
          "execution_count": 10
        }
      ]
    },
    {
      "metadata": {
        "id": "X_zw4tKdIzg8",
        "colab_type": "text"
      },
      "cell_type": "markdown",
      "source": [
        "**Q.3 - Create a numpy array A of shape(10,20) and B of shape (20,25) using np.random. Print the matrix which is the matrix multiplication of A and B. The shape of the new matrix should be (10,25). Using basic numpy math functions only find the sum of all the elements of the new matrix.**"
      ]
    },
    {
      "metadata": {
        "id": "TYUZn5xkIuFH",
        "colab_type": "code",
        "colab": {
          "base_uri": "https://localhost:8080/",
          "height": 918
        },
        "outputId": "24802cdc-d5ed-4d09-9df4-81ccb35dfa2f"
      },
      "cell_type": "code",
      "source": [
        "A = np.random.rand(10, 20)\n",
        "B = np.random.rand(20, 25)\n",
        "C = np.dot(A, B)\n",
        "print(C)\n",
        "print()\n",
        "print(\"Shape of C\")\n",
        "print(C.shape)"
      ],
      "execution_count": 12,
      "outputs": [
        {
          "output_type": "stream",
          "text": [
            "[[5.37382076 3.33745447 3.60279692 5.48122328 4.25448476 4.90774886\n",
            "  4.04993931 3.21945048 2.8566731  4.97296201 4.05093637 4.20761674\n",
            "  4.31541819 3.64885689 4.35555115 4.97625305 4.45751228 3.48452115\n",
            "  5.70712932 3.67670241 3.92690276 3.54478542 3.56323874 4.1656687\n",
            "  4.23540197]\n",
            " [6.81015624 5.09461716 4.82223409 6.01514851 4.71098404 5.0835043\n",
            "  5.47433123 5.09821392 3.59954514 5.94672623 4.70694769 5.17373852\n",
            "  4.44984859 4.77544691 4.46960711 6.41257433 5.31473957 4.64693739\n",
            "  6.39348545 4.81678756 4.47723513 5.68969601 4.65207203 4.89070588\n",
            "  4.94839945]\n",
            " [6.71417719 5.04589977 3.86701631 6.21486408 4.69049099 4.86608389\n",
            "  4.4849141  4.00626388 2.69694936 5.75451131 4.08682159 5.29342422\n",
            "  4.4775369  4.12992001 5.65505458 6.14110806 4.83299565 4.88514593\n",
            "  5.1095984  4.79551286 4.0528344  5.06928299 3.86361669 4.74483599\n",
            "  4.55077282]\n",
            " [5.68407927 4.27419731 3.77377817 5.42210235 4.32692082 3.67223372\n",
            "  3.67316823 3.85715103 2.94555325 5.08501773 3.76888374 3.76929143\n",
            "  3.87552489 3.12633058 3.84751732 5.47356901 4.9140898  4.05324348\n",
            "  5.288972   3.83841004 2.89625726 4.25957426 3.84240927 3.69141103\n",
            "  3.80709339]\n",
            " [8.1721653  5.74617013 5.26022454 7.46457254 5.84847006 5.20043177\n",
            "  5.49133663 5.39637432 3.89989874 6.86265946 5.10500665 5.54330863\n",
            "  4.67433891 4.31451114 5.84254044 7.59708687 6.06495952 5.14773728\n",
            "  7.37376219 5.1470807  4.94195832 6.27764232 4.80305112 5.32757798\n",
            "  5.89951411]\n",
            " [5.0701617  4.15703136 3.95672139 5.53480332 4.72103218 4.06716777\n",
            "  3.66333557 3.83837783 3.42078973 5.67748725 3.66000515 4.12396128\n",
            "  3.8018153  3.06732056 4.60467032 5.54176886 4.60915009 4.10157497\n",
            "  5.44874635 3.47796129 3.5606382  4.03039241 3.19299558 4.96179474\n",
            "  3.72136477]\n",
            " [6.50392679 5.21925605 4.25916774 5.97465355 5.01131037 4.02045566\n",
            "  4.45941571 4.57511877 4.00669806 5.57506787 4.29410467 5.93514705\n",
            "  4.76767328 4.25764394 4.77242945 6.71107904 4.84436156 4.6847452\n",
            "  6.21005917 4.73615636 3.82830839 5.35032132 4.0642464  4.47617914\n",
            "  5.14051458]\n",
            " [7.55289142 5.38535772 4.9877595  7.19675782 5.53631704 5.10592916\n",
            "  5.40599798 5.15290747 4.00585081 6.55392006 5.00244647 5.68305233\n",
            "  4.52901479 4.0100514  5.41412936 6.74827723 5.38416925 5.05408307\n",
            "  7.53285067 4.64932924 5.09627593 5.80582305 4.28190223 5.37360204\n",
            "  5.54178891]\n",
            " [7.13938338 4.84170462 5.40464505 7.0425395  4.81403516 5.13140133\n",
            "  5.9269517  4.69501587 4.2282525  6.69071734 4.75072773 6.15280738\n",
            "  5.3553397  4.57476346 5.51505162 6.79994331 5.01156069 5.08623311\n",
            "  7.63602055 4.65836462 5.13865613 5.36225976 5.12507073 5.23148729\n",
            "  5.55890969]\n",
            " [5.44609932 3.66045258 4.24747882 5.695583   4.31441989 4.21103506\n",
            "  3.99003735 3.74207345 3.22600909 5.26625625 3.50167632 4.62791018\n",
            "  4.55437387 2.83966256 3.60275952 4.93007344 3.59920211 3.73003442\n",
            "  5.79673597 3.09354265 3.63857848 4.48168934 3.54485948 5.00343616\n",
            "  3.90322143]]\n",
            "\n",
            "Shape of C\n",
            "(10, 25)\n"
          ],
          "name": "stdout"
        }
      ]
    },
    {
      "metadata": {
        "id": "ecN_l6n9KFaW",
        "colab_type": "text"
      },
      "cell_type": "markdown",
      "source": [
        "Sum of all elements"
      ]
    },
    {
      "metadata": {
        "id": "XgDZhEEMJd1V",
        "colab_type": "code",
        "colab": {
          "base_uri": "https://localhost:8080/",
          "height": 34
        },
        "outputId": "55eb3800-ef46-44e4-b644-d9be04e65330"
      },
      "cell_type": "code",
      "source": [
        "np.sum(C)"
      ],
      "execution_count": 13,
      "outputs": [
        {
          "output_type": "execute_result",
          "data": {
            "text/plain": [
              "1208.6441586258243"
            ]
          },
          "metadata": {
            "tags": []
          },
          "execution_count": 13
        }
      ]
    },
    {
      "metadata": {
        "id": "0o952LSzKQvP",
        "colab_type": "text"
      },
      "cell_type": "markdown",
      "source": [
        "**Q.4 - Create a numpy array A of shape(10,1).Using the basic operations of the numpy array generate an array of shape(10,1) such that each element is the following function applied on each element of A. **\n",
        "\n",
        "f(x)=1 / (1 + exp(-x))"
      ]
    },
    {
      "metadata": {
        "id": "QrGeNAfkKJoI",
        "colab_type": "code",
        "colab": {}
      },
      "cell_type": "code",
      "source": [
        "a = np.arange(10).reshape(10,1)\n",
        "b = np.empty_like(a)\n",
        "b = 1/(1 + np.exp(-a))"
      ],
      "execution_count": 0,
      "outputs": []
    },
    {
      "metadata": {
        "id": "FXOPap4mLaDv",
        "colab_type": "code",
        "colab": {
          "base_uri": "https://localhost:8080/",
          "height": 357
        },
        "outputId": "139854cd-e599-437d-c146-7e29fa5d92fb"
      },
      "cell_type": "code",
      "source": [
        "print(a)\n",
        "print(b)"
      ],
      "execution_count": 15,
      "outputs": [
        {
          "output_type": "stream",
          "text": [
            "[[0]\n",
            " [1]\n",
            " [2]\n",
            " [3]\n",
            " [4]\n",
            " [5]\n",
            " [6]\n",
            " [7]\n",
            " [8]\n",
            " [9]]\n",
            "[[0.5       ]\n",
            " [0.73105858]\n",
            " [0.88079708]\n",
            " [0.95257413]\n",
            " [0.98201379]\n",
            " [0.99330715]\n",
            " [0.99752738]\n",
            " [0.99908895]\n",
            " [0.99966465]\n",
            " [0.99987661]]\n"
          ],
          "name": "stdout"
        }
      ]
    },
    {
      "metadata": {
        "id": "Tvrhc8bVLds5",
        "colab_type": "code",
        "colab": {}
      },
      "cell_type": "code",
      "source": [
        ""
      ],
      "execution_count": 0,
      "outputs": []
    }
  ]
}