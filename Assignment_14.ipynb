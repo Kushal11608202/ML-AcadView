{
  "nbformat": 4,
  "nbformat_minor": 0,
  "metadata": {
    "colab": {
      "name": "Assignment_14.ipynb",
      "version": "0.3.2",
      "provenance": []
    },
    "kernelspec": {
      "name": "python3",
      "display_name": "Python 3"
    },
    "accelerator": "GPU"
  },
  "cells": [
    {
      "cell_type": "markdown",
      "metadata": {
        "id": "view-in-github",
        "colab_type": "text"
      },
      "source": [
        "[View in Colaboratory](https://colab.research.google.com/github/duakaran96/ML-AcadView/blob/master/Assignment_14.ipynb)"
      ]
    },
    {
      "metadata": {
        "id": "2rVzOPlnFiN1",
        "colab_type": "text"
      },
      "cell_type": "markdown",
      "source": [
        "**Q.1- What is the probability of a person playing when the weather is sunny? Find P(Yes|Sunny).**\n",
        "\n",
        "P(Yes|Sunny) = P(Sunny|Yes) * P(Yes) / P(Sunny)"
      ]
    },
    {
      "metadata": {
        "id": "cpZ0LZhPFKsn",
        "colab_type": "code",
        "colab": {
          "base_uri": "https://localhost:8080/",
          "height": 36
        },
        "outputId": "3733fd5a-c707-4db6-a3fb-c7f362bcd4af"
      },
      "cell_type": "code",
      "source": [
        "answer = 0.6\n",
        "print(answer)"
      ],
      "execution_count": 1,
      "outputs": [
        {
          "output_type": "stream",
          "text": [
            "0.6\n"
          ],
          "name": "stdout"
        }
      ]
    },
    {
      "metadata": {
        "id": "ULmhbXEnIn3T",
        "colab_type": "text"
      },
      "cell_type": "markdown",
      "source": [
        "**Q.2- Solve the following:\n",
        "a) Import iris dataset from sklearn.**"
      ]
    },
    {
      "metadata": {
        "id": "lWfKAZW2IVcB",
        "colab_type": "code",
        "colab": {}
      },
      "cell_type": "code",
      "source": [
        "from sklearn import datasets\n",
        "iris = datasets.load_iris()"
      ],
      "execution_count": 0,
      "outputs": []
    },
    {
      "metadata": {
        "id": "Kg1r5AWYJFLh",
        "colab_type": "text"
      },
      "cell_type": "markdown",
      "source": [
        "**b) Split the dataset into training and testing sets using train_test_split() **"
      ]
    },
    {
      "metadata": {
        "id": "VlEwkssQI_Iv",
        "colab_type": "code",
        "colab": {}
      },
      "cell_type": "code",
      "source": [
        "X = iris.data\n",
        "y = iris.target\n",
        "from sklearn.model_selection import train_test_split\n",
        "X_train, X_test, y_train, y_test = train_test_split(X, y, test_size=0.30, random_state=101)"
      ],
      "execution_count": 0,
      "outputs": []
    },
    {
      "metadata": {
        "id": "wkWrUJm5JrwH",
        "colab_type": "text"
      },
      "cell_type": "markdown",
      "source": [
        "**c) Use GaussianNB and print the following:**\n",
        "\n",
        "1. Confusion matrix\n",
        "2. Classification report"
      ]
    },
    {
      "metadata": {
        "id": "gStPPvc0JmbC",
        "colab_type": "code",
        "colab": {}
      },
      "cell_type": "code",
      "source": [
        "from sklearn.naive_bayes import GaussianNB\n",
        "gauss = GaussianNB()"
      ],
      "execution_count": 0,
      "outputs": []
    },
    {
      "metadata": {
        "id": "gn80180FJ9hf",
        "colab_type": "code",
        "colab": {
          "base_uri": "https://localhost:8080/",
          "height": 36
        },
        "outputId": "98d78f7a-a0b9-4426-d204-8cedc84cf699"
      },
      "cell_type": "code",
      "source": [
        "gauss.fit(X_train, y_train)"
      ],
      "execution_count": 6,
      "outputs": [
        {
          "output_type": "execute_result",
          "data": {
            "text/plain": [
              "GaussianNB(priors=None)"
            ]
          },
          "metadata": {
            "tags": []
          },
          "execution_count": 6
        }
      ]
    },
    {
      "metadata": {
        "id": "uEJtiXuiKCNV",
        "colab_type": "code",
        "colab": {}
      },
      "cell_type": "code",
      "source": [
        "gaussPred = gauss.predict(X_test)"
      ],
      "execution_count": 0,
      "outputs": []
    },
    {
      "metadata": {
        "id": "Vt3rhqjyKGby",
        "colab_type": "code",
        "colab": {
          "base_uri": "https://localhost:8080/",
          "height": 225
        },
        "outputId": "bbf5f03f-7128-46d4-f38c-f3d1c58eaeaa"
      },
      "cell_type": "code",
      "source": [
        "from sklearn.metrics import confusion_matrix, classification_report\n",
        "cm = confusion_matrix(y_test, gaussPred)\n",
        "print(cm)\n",
        "print(classification_report(y_test, gaussPred))"
      ],
      "execution_count": 8,
      "outputs": [
        {
          "output_type": "stream",
          "text": [
            "[[13  0  0]\n",
            " [ 0 19  1]\n",
            " [ 0  1 11]]\n",
            "             precision    recall  f1-score   support\n",
            "\n",
            "          0       1.00      1.00      1.00        13\n",
            "          1       0.95      0.95      0.95        20\n",
            "          2       0.92      0.92      0.92        12\n",
            "\n",
            "avg / total       0.96      0.96      0.96        45\n",
            "\n"
          ],
          "name": "stdout"
        }
      ]
    },
    {
      "metadata": {
        "id": "xGKKLO-tKi8d",
        "colab_type": "text"
      },
      "cell_type": "markdown",
      "source": [
        "**d) Use MultinomialNB and print the following:**\n",
        "\n",
        "1. Confusion matrix\n",
        "2. Classification report"
      ]
    },
    {
      "metadata": {
        "id": "MMlX7WtBKcNP",
        "colab_type": "code",
        "colab": {}
      },
      "cell_type": "code",
      "source": [
        "from sklearn.naive_bayes import MultinomialNB\n",
        "multinomial = MultinomialNB()"
      ],
      "execution_count": 0,
      "outputs": []
    },
    {
      "metadata": {
        "id": "0ay55-UvKyg_",
        "colab_type": "code",
        "colab": {
          "base_uri": "https://localhost:8080/",
          "height": 36
        },
        "outputId": "0be7d63f-fc3a-4684-b5b1-73c683f8026b"
      },
      "cell_type": "code",
      "source": [
        "multinomial.fit(X_train, y_train)"
      ],
      "execution_count": 10,
      "outputs": [
        {
          "output_type": "execute_result",
          "data": {
            "text/plain": [
              "MultinomialNB(alpha=1.0, class_prior=None, fit_prior=True)"
            ]
          },
          "metadata": {
            "tags": []
          },
          "execution_count": 10
        }
      ]
    },
    {
      "metadata": {
        "id": "aK7cX65RK3PD",
        "colab_type": "code",
        "colab": {}
      },
      "cell_type": "code",
      "source": [
        "multinomialPred = multinomial.predict(X_test)"
      ],
      "execution_count": 0,
      "outputs": []
    },
    {
      "metadata": {
        "id": "vCrs_trhLAHX",
        "colab_type": "code",
        "colab": {
          "base_uri": "https://localhost:8080/",
          "height": 282
        },
        "outputId": "9da081d6-04b0-48ac-b5d4-20600087be6a"
      },
      "cell_type": "code",
      "source": [
        "cm = confusion_matrix(y_test, multinomialPred)\n",
        "print(cm)\n",
        "print(classification_report(y_test, multinomialPred))"
      ],
      "execution_count": 14,
      "outputs": [
        {
          "output_type": "stream",
          "text": [
            "[[13  0  0]\n",
            " [ 0  0 20]\n",
            " [ 0  0 12]]\n",
            "             precision    recall  f1-score   support\n",
            "\n",
            "          0       1.00      1.00      1.00        13\n",
            "          1       0.00      0.00      0.00        20\n",
            "          2       0.38      1.00      0.55        12\n",
            "\n",
            "avg / total       0.39      0.56      0.43        45\n",
            "\n"
          ],
          "name": "stdout"
        },
        {
          "output_type": "stream",
          "text": [
            "/usr/local/lib/python3.6/dist-packages/sklearn/metrics/classification.py:1135: UndefinedMetricWarning: Precision and F-score are ill-defined and being set to 0.0 in labels with no predicted samples.\n",
            "  'precision', 'predicted', average, warn_for)\n"
          ],
          "name": "stderr"
        }
      ]
    },
    {
      "metadata": {
        "id": "lq3uX6cpLNMg",
        "colab_type": "code",
        "colab": {}
      },
      "cell_type": "code",
      "source": [
        ""
      ],
      "execution_count": 0,
      "outputs": []
    }
  ]
}