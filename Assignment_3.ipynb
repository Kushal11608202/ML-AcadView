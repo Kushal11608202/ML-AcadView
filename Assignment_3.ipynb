{
  "nbformat": 4,
  "nbformat_minor": 0,
  "metadata": {
    "colab": {
      "name": "Assignment_3.ipynb",
      "version": "0.3.2",
      "provenance": []
    },
    "kernelspec": {
      "name": "python3",
      "display_name": "Python 3"
    }
  },
  "cells": [
    {
      "cell_type": "markdown",
      "metadata": {
        "id": "view-in-github",
        "colab_type": "text"
      },
      "source": [
        "[View in Colaboratory](https://colab.research.google.com/github/duakaran96/ML-AcadView/blob/master/Assignment_3.ipynb)"
      ]
    },
    {
      "metadata": {
        "id": "YMEYvWahN0Pv",
        "colab_type": "text"
      },
      "cell_type": "markdown",
      "source": [
        "**Q.1 - Consider the below given probabilities: **\n",
        "\n",
        "P(A) = 11 / 36\n",
        "P(B) = 6 / 36\n",
        "P(A|B) = 2 / 36\n",
        "\n",
        "**Write a function in Python which takes 3 probabilities as argument and outputs the Conditional probability P(B|A).**"
      ]
    },
    {
      "metadata": {
        "id": "yeNL-de-JjRq",
        "colab_type": "code",
        "colab": {}
      },
      "cell_type": "code",
      "source": [
        "def probability(a, b, ab):\n",
        "  ba = (ab * b)/a\n",
        "  return ba"
      ],
      "execution_count": 0,
      "outputs": []
    },
    {
      "metadata": {
        "id": "_K3flYJSOwBA",
        "colab_type": "code",
        "colab": {
          "base_uri": "https://localhost:8080/",
          "height": 34
        },
        "outputId": "6d8d1014-1a2e-443b-c232-2cb3ef80856d"
      },
      "cell_type": "code",
      "source": [
        "a = 11/36 #P(A)\n",
        "b = 6/36  #P(B)\n",
        "ab = 2/36  #P(A|B)\n",
        "ba = probability(a, b, ab)  #P(B|A)\n",
        "ba"
      ],
      "execution_count": 3,
      "outputs": [
        {
          "output_type": "execute_result",
          "data": {
            "text/plain": [
              "0.0303030303030303"
            ]
          },
          "metadata": {
            "tags": []
          },
          "execution_count": 3
        }
      ]
    },
    {
      "metadata": {
        "id": "iQ8w4DxtVveh",
        "colab_type": "text"
      },
      "cell_type": "markdown",
      "source": [
        "**Q.2 - Bag I contains 4 white and 6 black balls while another Bag II contains 4 white and 3 black balls. One ball is drawn at random from one of the bags and it is found to be black. Find the probability that it was drawn from Bag I.**"
      ]
    },
    {
      "metadata": {
        "id": "24WkCQ8vPMN-",
        "colab_type": "code",
        "colab": {
          "base_uri": "https://localhost:8080/",
          "height": 34
        },
        "outputId": "c87f5388-d61a-472b-c30f-e6a565cc1f18"
      },
      "cell_type": "code",
      "source": [
        "answer2 = 0.5833\n",
        "answer2"
      ],
      "execution_count": 4,
      "outputs": [
        {
          "output_type": "execute_result",
          "data": {
            "text/plain": [
              "0.5833"
            ]
          },
          "metadata": {
            "tags": []
          },
          "execution_count": 4
        }
      ]
    },
    {
      "metadata": {
        "id": "z4ASbWCGW14z",
        "colab_type": "text"
      },
      "cell_type": "markdown",
      "source": [
        "**Q.3 - A man is known to speak truth 2 out of 3 times. He throws a die and reports that number obtained is a four. Find the probability that the number obtained is actually a four.**"
      ]
    },
    {
      "metadata": {
        "id": "yWd-opkaW0TT",
        "colab_type": "code",
        "colab": {
          "base_uri": "https://localhost:8080/",
          "height": 34
        },
        "outputId": "9683db3d-dcf8-43b7-b5d0-298ea7ae01df"
      },
      "cell_type": "code",
      "source": [
        "answer3 = 0.2857\n",
        "answer3"
      ],
      "execution_count": 5,
      "outputs": [
        {
          "output_type": "execute_result",
          "data": {
            "text/plain": [
              "0.2857"
            ]
          },
          "metadata": {
            "tags": []
          },
          "execution_count": 5
        }
      ]
    },
    {
      "metadata": {
        "id": "Py-4QVccW-c-",
        "colab_type": "code",
        "colab": {}
      },
      "cell_type": "code",
      "source": [
        ""
      ],
      "execution_count": 0,
      "outputs": []
    }
  ]
}